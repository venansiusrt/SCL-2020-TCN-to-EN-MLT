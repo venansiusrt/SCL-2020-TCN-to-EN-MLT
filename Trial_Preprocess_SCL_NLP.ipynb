{
 "cells": [
  {
   "cell_type": "markdown",
   "metadata": {},
   "source": [
    "# INPUT DATASET ENGLISH AND TRADITIONAL-CHINESE"
   ]
  },
  {
   "cell_type": "code",
   "execution_count": 1,
   "metadata": {},
   "outputs": [],
   "source": [
    "import pandas as pd\n",
    "from tqdm import tqdm\n",
    "import time"
   ]
  },
  {
   "cell_type": "code",
   "execution_count": 2,
   "metadata": {},
   "outputs": [
    {
     "data": {
      "text/html": [
       "<div>\n",
       "<style scoped>\n",
       "    .dataframe tbody tr th:only-of-type {\n",
       "        vertical-align: middle;\n",
       "    }\n",
       "\n",
       "    .dataframe tbody tr th {\n",
       "        vertical-align: top;\n",
       "    }\n",
       "\n",
       "    .dataframe thead th {\n",
       "        text-align: right;\n",
       "    }\n",
       "</style>\n",
       "<table border=\"1\" class=\"dataframe\">\n",
       "  <thead>\n",
       "    <tr style=\"text-align: right;\">\n",
       "      <th></th>\n",
       "      <th>product_title</th>\n",
       "      <th>category</th>\n",
       "    </tr>\n",
       "  </thead>\n",
       "  <tbody>\n",
       "    <tr>\n",
       "      <th>0</th>\n",
       "      <td>Recollections Color Splash Clear Stamps &amp; Stencil</td>\n",
       "      <td>Hobbies &amp; Stationery</td>\n",
       "    </tr>\n",
       "    <tr>\n",
       "      <th>1</th>\n",
       "      <td>soap,lotion scrub set 400</td>\n",
       "      <td>Health &amp; Personal Care</td>\n",
       "    </tr>\n",
       "    <tr>\n",
       "      <th>2</th>\n",
       "      <td>Spigen Galaxy S10e Case Tough Armor Gunmetal</td>\n",
       "      <td>Mobile Accessories</td>\n",
       "    </tr>\n",
       "    <tr>\n",
       "      <th>3</th>\n",
       "      <td>Acrylic Lanalon Bright Red</td>\n",
       "      <td>Hobbies &amp; Stationery</td>\n",
       "    </tr>\n",
       "    <tr>\n",
       "      <th>4</th>\n",
       "      <td>303 FLAT SHEET/Blanket 100% cotton</td>\n",
       "      <td>Home &amp; Living</td>\n",
       "    </tr>\n",
       "    <tr>\n",
       "      <th>...</th>\n",
       "      <td>...</td>\n",
       "      <td>...</td>\n",
       "    </tr>\n",
       "    <tr>\n",
       "      <th>499995</th>\n",
       "      <td>rocker arm roller racing mio</td>\n",
       "      <td>Motors</td>\n",
       "    </tr>\n",
       "    <tr>\n",
       "      <th>499996</th>\n",
       "      <td>Secosana (preloved bag)</td>\n",
       "      <td>Women's Bags</td>\n",
       "    </tr>\n",
       "    <tr>\n",
       "      <th>499997</th>\n",
       "      <td>jag bag</td>\n",
       "      <td>Women's Bags</td>\n",
       "    </tr>\n",
       "    <tr>\n",
       "      <th>499998</th>\n",
       "      <td>Baby wipes 15 sheets (Alcohol and Paraben Free...</td>\n",
       "      <td>Babies &amp; Kids</td>\n",
       "    </tr>\n",
       "    <tr>\n",
       "      <th>499999</th>\n",
       "      <td>PRE-LOVED ORIGINAL GREEN FINO BAG</td>\n",
       "      <td>Women's Bags</td>\n",
       "    </tr>\n",
       "  </tbody>\n",
       "</table>\n",
       "<p>500000 rows × 2 columns</p>\n",
       "</div>"
      ],
      "text/plain": [
       "                                            product_title  \\\n",
       "0       Recollections Color Splash Clear Stamps & Stencil   \n",
       "1                               soap,lotion scrub set 400   \n",
       "2            Spigen Galaxy S10e Case Tough Armor Gunmetal   \n",
       "3                              Acrylic Lanalon Bright Red   \n",
       "4                      303 FLAT SHEET/Blanket 100% cotton   \n",
       "...                                                   ...   \n",
       "499995                       rocker arm roller racing mio   \n",
       "499996                            Secosana (preloved bag)   \n",
       "499997                                            jag bag   \n",
       "499998  Baby wipes 15 sheets (Alcohol and Paraben Free...   \n",
       "499999                  PRE-LOVED ORIGINAL GREEN FINO BAG   \n",
       "\n",
       "                      category  \n",
       "0         Hobbies & Stationery  \n",
       "1       Health & Personal Care  \n",
       "2           Mobile Accessories  \n",
       "3         Hobbies & Stationery  \n",
       "4                Home & Living  \n",
       "...                        ...  \n",
       "499995                  Motors  \n",
       "499996            Women's Bags  \n",
       "499997            Women's Bags  \n",
       "499998           Babies & Kids  \n",
       "499999            Women's Bags  \n",
       "\n",
       "[500000 rows x 2 columns]"
      ]
     },
     "execution_count": 2,
     "metadata": {},
     "output_type": "execute_result"
    }
   ],
   "source": [
    "train_EN = pd.read_csv('train_en.csv')\n",
    "train_EN"
   ]
  },
  {
   "cell_type": "code",
   "execution_count": 3,
   "metadata": {},
   "outputs": [
    {
     "data": {
      "text/html": [
       "<div>\n",
       "<style scoped>\n",
       "    .dataframe tbody tr th:only-of-type {\n",
       "        vertical-align: middle;\n",
       "    }\n",
       "\n",
       "    .dataframe tbody tr th {\n",
       "        vertical-align: top;\n",
       "    }\n",
       "\n",
       "    .dataframe thead th {\n",
       "        text-align: right;\n",
       "    }\n",
       "</style>\n",
       "<table border=\"1\" class=\"dataframe\">\n",
       "  <thead>\n",
       "    <tr style=\"text-align: right;\">\n",
       "      <th></th>\n",
       "      <th>product_title</th>\n",
       "      <th>category</th>\n",
       "    </tr>\n",
       "  </thead>\n",
       "  <tbody>\n",
       "    <tr>\n",
       "      <th>0</th>\n",
       "      <td>Gucci Gucci Guilty Pour Femme Stud Edition 罪愛女...</td>\n",
       "      <td>Health &amp; Beauty</td>\n",
       "    </tr>\n",
       "    <tr>\n",
       "      <th>1</th>\n",
       "      <td>（二手）PS4 GTA 5 俠盜獵車手5 Grand Theif Auto V繁體 中文版</td>\n",
       "      <td>Game Kingdom</td>\n",
       "    </tr>\n",
       "    <tr>\n",
       "      <th>2</th>\n",
       "      <td>百獸卡</td>\n",
       "      <td>Life &amp; Entertainment</td>\n",
       "    </tr>\n",
       "    <tr>\n",
       "      <th>3</th>\n",
       "      <td>nac nac活氧全效柔衣素</td>\n",
       "      <td>Mother &amp; Baby</td>\n",
       "    </tr>\n",
       "    <tr>\n",
       "      <th>4</th>\n",
       "      <td>#Nike耐吉官方F.C. 男子足球長褲新款標準型 拒水 拉鏈褲腳\\nCD0557</td>\n",
       "      <td>Men's Apparel</td>\n",
       "    </tr>\n",
       "    <tr>\n",
       "      <th>...</th>\n",
       "      <td>...</td>\n",
       "      <td>...</td>\n",
       "    </tr>\n",
       "    <tr>\n",
       "      <th>499995</th>\n",
       "      <td>Dress</td>\n",
       "      <td>Women's Apparel</td>\n",
       "    </tr>\n",
       "    <tr>\n",
       "      <th>499996</th>\n",
       "      <td>Lilian Lin</td>\n",
       "      <td>Food &amp; Beverages</td>\n",
       "    </tr>\n",
       "    <tr>\n",
       "      <th>499997</th>\n",
       "      <td>77 抹茶杏仁乳加 77乳加 減甜 大人味 大人的77 宇治抹茶 杏仁 宇治抹茶杏仁 抹茶 ...</td>\n",
       "      <td>Food &amp; Beverages</td>\n",
       "    </tr>\n",
       "    <tr>\n",
       "      <th>499998</th>\n",
       "      <td>Panasonic 國際牌  電動 牙刷頭  (EW-DM81 專用刷頭) WEW0974-W</td>\n",
       "      <td>Home Electronic</td>\n",
       "    </tr>\n",
       "    <tr>\n",
       "      <th>499999</th>\n",
       "      <td>正品 新款紅眼 戰神哈奴曼手鐲 哈魯曼手環 戰神哈努曼 龍波雨水 新款紅眼 提升勇氣自信心 ...</td>\n",
       "      <td>Life &amp; Entertainment</td>\n",
       "    </tr>\n",
       "  </tbody>\n",
       "</table>\n",
       "<p>500000 rows × 2 columns</p>\n",
       "</div>"
      ],
      "text/plain": [
       "                                            product_title  \\\n",
       "0       Gucci Gucci Guilty Pour Femme Stud Edition 罪愛女...   \n",
       "1           （二手）PS4 GTA 5 俠盜獵車手5 Grand Theif Auto V繁體 中文版   \n",
       "2                                                     百獸卡   \n",
       "3                                          nac nac活氧全效柔衣素   \n",
       "4               #Nike耐吉官方F.C. 男子足球長褲新款標準型 拒水 拉鏈褲腳\\nCD0557   \n",
       "...                                                   ...   \n",
       "499995                                              Dress   \n",
       "499996                                         Lilian Lin   \n",
       "499997  77 抹茶杏仁乳加 77乳加 減甜 大人味 大人的77 宇治抹茶 杏仁 宇治抹茶杏仁 抹茶 ...   \n",
       "499998    Panasonic 國際牌  電動 牙刷頭  (EW-DM81 專用刷頭) WEW0974-W   \n",
       "499999  正品 新款紅眼 戰神哈奴曼手鐲 哈魯曼手環 戰神哈努曼 龍波雨水 新款紅眼 提升勇氣自信心 ...   \n",
       "\n",
       "                    category  \n",
       "0            Health & Beauty  \n",
       "1               Game Kingdom  \n",
       "2       Life & Entertainment  \n",
       "3              Mother & Baby  \n",
       "4              Men's Apparel  \n",
       "...                      ...  \n",
       "499995       Women's Apparel  \n",
       "499996      Food & Beverages  \n",
       "499997      Food & Beverages  \n",
       "499998       Home Electronic  \n",
       "499999  Life & Entertainment  \n",
       "\n",
       "[500000 rows x 2 columns]"
      ]
     },
     "execution_count": 3,
     "metadata": {},
     "output_type": "execute_result"
    }
   ],
   "source": [
    "train_TCN = pd.read_csv('train_tcn.csv', encoding='utf-8-sig')\n",
    "train_TCN"
   ]
  },
  {
   "cell_type": "markdown",
   "metadata": {},
   "source": [
    "# PREPROCESS THE ENGLISH DATASET"
   ]
  },
  {
   "cell_type": "code",
   "execution_count": 4,
   "metadata": {},
   "outputs": [
    {
     "name": "stdout",
     "output_type": "stream",
     "text": [
      "Punctuations: !\"#$%&'()*+,-./:;<=>?@[\\]^_`{|}~\n"
     ]
    }
   ],
   "source": [
    "import string\n",
    "from nltk.tokenize import word_tokenize as WT\n",
    "\n",
    "print(\"Punctuations:\",string.punctuation)"
   ]
  },
  {
   "cell_type": "markdown",
   "metadata": {},
   "source": [
    "##### 1. Tokenization (for deleting all stopwords)"
   ]
  },
  {
   "cell_type": "code",
   "execution_count": 5,
   "metadata": {},
   "outputs": [
    {
     "name": "stderr",
     "output_type": "stream",
     "text": [
      "100%|██████████| 500000/500000 [01:01<00:00, 8142.91it/s] "
     ]
    },
    {
     "name": "stdout",
     "output_type": "stream",
     "text": [
      "Wall time: 1min 1s\n"
     ]
    },
    {
     "name": "stderr",
     "output_type": "stream",
     "text": [
      "\n"
     ]
    },
    {
     "data": {
      "text/plain": [
       "500000"
      ]
     },
     "execution_count": 5,
     "metadata": {},
     "output_type": "execute_result"
    }
   ],
   "source": [
    "%%time\n",
    "train_en_tokenized = []\n",
    "for words in tqdm(train_EN['product_title']):\n",
    "    temp = WT(words)\n",
    "    train_en_tokenized.append(temp)\n",
    "\n",
    "len(train_en_tokenized)"
   ]
  },
  {
   "cell_type": "markdown",
   "metadata": {},
   "source": [
    "##### 2. Delete Numbers in Tokenized Result"
   ]
  },
  {
   "cell_type": "code",
   "execution_count": 6,
   "metadata": {},
   "outputs": [],
   "source": [
    "import re\n",
    "def number_remover(list): \n",
    "    pattern = '[0-9]'\n",
    "    list = [re.sub(pattern, '', i) for i in list] \n",
    "    return list"
   ]
  },
  {
   "cell_type": "code",
   "execution_count": 7,
   "metadata": {},
   "outputs": [
    {
     "name": "stderr",
     "output_type": "stream",
     "text": [
      "100%|██████████| 500000/500000 [00:04<00:00, 116890.87it/s]\n"
     ]
    },
    {
     "data": {
      "text/plain": [
       "500000"
      ]
     },
     "execution_count": 7,
     "metadata": {},
     "output_type": "execute_result"
    }
   ],
   "source": [
    "train_en_tokenized_nonum = []\n",
    "for tokenized_words in tqdm(train_en_tokenized):\n",
    "    train_en_tokenized_nonum.append(number_remover(tokenized_words))\n",
    "\n",
    "len(train_en_tokenized_nonum)"
   ]
  },
  {
   "cell_type": "markdown",
   "metadata": {},
   "source": [
    "##### 3. Remove punctuations and multi-whitespaces, also transform the data into the lowercase form"
   ]
  },
  {
   "cell_type": "code",
   "execution_count": 8,
   "metadata": {},
   "outputs": [],
   "source": [
    "def advance_remover(list_input):\n",
    "    punctuations = [char for char in string.punctuation]\n",
    "    separator = ' '\n",
    "    joined_string = str(separator.join(list_input))\n",
    "    for char in punctuations:\n",
    "        joined_string = joined_string.replace(char,'') #remove special character\n",
    "        joined_string = re.sub(' +', ' ', joined_string) #remove multi-whitespaces\n",
    "    return joined_string.lower()"
   ]
  },
  {
   "cell_type": "code",
   "execution_count": 9,
   "metadata": {},
   "outputs": [
    {
     "name": "stderr",
     "output_type": "stream",
     "text": [
      "100%|██████████| 500000/500000 [00:53<00:00, 9308.15it/s] "
     ]
    },
    {
     "name": "stdout",
     "output_type": "stream",
     "text": [
      "Wall time: 53.7 s\n"
     ]
    },
    {
     "name": "stderr",
     "output_type": "stream",
     "text": [
      "\n"
     ]
    },
    {
     "data": {
      "text/plain": [
       "500000"
      ]
     },
     "execution_count": 9,
     "metadata": {},
     "output_type": "execute_result"
    }
   ],
   "source": [
    "%%time\n",
    "cleaned_data_en = []\n",
    "for words in tqdm(train_en_tokenized_nonum):\n",
    "    cleaned_data_en.append(advance_remover(words))\n",
    "\n",
    "len(cleaned_data_en)"
   ]
  },
  {
   "cell_type": "code",
   "execution_count": 10,
   "metadata": {},
   "outputs": [],
   "source": [
    "# A = pd.DataFrame({'product_title':cleaned_data_en, 'category':train_EN['category']})\n",
    "# A.to_csv('D:\\A Shopee Code League\\#4 Title Translation\\cleaned_data_en.csv', index=False, encoding='utf-8-sig')"
   ]
  },
  {
   "cell_type": "markdown",
   "metadata": {},
   "source": [
    "# PREPROCESS THE TRADITIONAL-CHINESE DATASET"
   ]
  },
  {
   "cell_type": "markdown",
   "metadata": {},
   "source": [
    "##### References \n",
    "1. https://www.dlology.com/blog/tutorial-chinese-sentiment-analysis-with-hotel-review-data/\n",
    "2. https://github.com/Tony607/Chinese_sentiment_analysis\n",
    "3. https://github.com/jacquessham/tokenize_chinese_nlp\n",
    "4. https://stackoverflow.com/questions/2718196/find-all-chinese-text-in-a-string-using-python-and-regex"
   ]
  },
  {
   "cell_type": "code",
   "execution_count": 11,
   "metadata": {},
   "outputs": [
    {
     "name": "stderr",
     "output_type": "stream",
     "text": [
      "Using TensorFlow backend.\n"
     ]
    }
   ],
   "source": [
    "from keras.preprocessing.text import Tokenizer\n",
    "from keras.preprocessing.sequence import pad_sequences\n",
    "import jieba"
   ]
  },
  {
   "cell_type": "code",
   "execution_count": 14,
   "metadata": {},
   "outputs": [],
   "source": [
    "def non_chinese_words_remover(words):\n",
    "    chinese_words_only = []\n",
    "    for n in re.findall('[\\u4e00-\\u9fff]+', words):\n",
    "        chinese_words_only.append(n)\n",
    "    return ''.join(chinese_words_only)"
   ]
  },
  {
   "cell_type": "code",
   "execution_count": 15,
   "metadata": {},
   "outputs": [],
   "source": [
    "def chinese_tokenizer(words):\n",
    "    tcn_words = non_chinese_words_remover(words)\n",
    "    if tcn_words == '':\n",
    "        return words\n",
    "    else:\n",
    "        chinese_stopwords = [line.rstrip() for line in open('D:\\A Shopee Code League\\#4 Title Translation\\chinese-stopwords.txt',\"r\", encoding=\"utf-8\")]\n",
    "        for char in chinese_stopwords:\n",
    "            tcn_words = tcn_words.replace(char,'')\n",
    "            tcn_words = tcn_words.replace(' ','')\n",
    "        temp = ' '.join(jieba.cut_for_search(tcn_words))\n",
    "        return temp"
   ]
  },
  {
   "cell_type": "code",
   "execution_count": null,
   "metadata": {},
   "outputs": [],
   "source": [
    "cleaned_data_tcn = []\n",
    "for chinese_words in tqdm(train_TCN['product_title']):\n",
    "    cleaned_data_tcn.append(chinese_tokenizer(chinese_words))"
   ]
  },
  {
   "cell_type": "code",
   "execution_count": 60,
   "metadata": {},
   "outputs": [],
   "source": [
    "# B = pd.DataFrame({'product_title':cleaned_data_tcn, 'category':train_TCN['category']})\n",
    "# B.to_csv('D:\\A Shopee Code League\\#4 Title Translation\\cleaned_data_tcn.csv', index=False, encoding='utf-8-sig')"
   ]
  },
  {
   "cell_type": "markdown",
   "metadata": {},
   "source": [
    "# CHECK CATEGORY IN BOTH CLEANED DATASET"
   ]
  },
  {
   "cell_type": "code",
   "execution_count": 17,
   "metadata": {},
   "outputs": [],
   "source": [
    "data_tcn = pd.read_csv('D:\\A Shopee Code League\\#4 Title Translation\\cleaned_data_tcn.csv')\n",
    "data_en  = pd.read_csv('D:\\A Shopee Code League\\#4 Title Translation\\cleaned_data_en.csv')"
   ]
  },
  {
   "cell_type": "code",
   "execution_count": 18,
   "metadata": {},
   "outputs": [
    {
     "name": "stdout",
     "output_type": "stream",
     "text": [
      "['Health & Beauty' 'Game Kingdom' 'Life & Entertainment' 'Mother & Baby'\n",
      " \"Men's Apparel\" \"Women's Apparel\" 'Women Bags' 'Women Shoes'\n",
      " 'Home & Living' 'Everything Else' 'Hardware & 3C'\n",
      " \"Men's Bags& Accessories\" 'Sports & Outdoors' 'Helpbuy' 'Men Shoes'\n",
      " 'Books' 'Motors' 'Home Electronic' 'Food & Beverages' 'Mobile & Gadgets'\n",
      " 'Women Accessories' 'Pets' 'Tickets & Services' nan ' Mobile & Gadgets'\n",
      " 'X']\n",
      "26\n",
      "['Hobbies & Stationery' 'Health & Personal Care' 'Mobile Accessories'\n",
      " 'Home & Living' \"Women's Apparel\" 'Women Shoes' 'Babies & Kids'\n",
      " 'Women Accessories' 'Toys, Games & Collectibles' 'Groceries' 'Motors'\n",
      " 'Makeup & Fragrances' \"Women's Bags\" \"Men's Apparel\" 'Pet Care'\n",
      " \"Men's Bags & Accessories\" 'Sports & Travel' 'Men Shoes' 'Gaming'\n",
      " 'Laptops & Computers' 'Home Entertainment' 'Mobiles & Gadgets' 'Cameras'\n",
      " 'Home Appliances' 'Consumer Electronics' ' Games & Collectibles\"'\n",
      " 'Digital Goods & Vouchers']\n",
      "27\n"
     ]
    }
   ],
   "source": [
    "category_tcn = data_tcn['category'].unique()\n",
    "category_en = data_en['category'].unique()\n",
    "\n",
    "print(category_tcn)\n",
    "print(len(category_tcn))\n",
    "\n",
    "print(category_en)\n",
    "print(len(category_en))"
   ]
  },
  {
   "cell_type": "code",
   "execution_count": 19,
   "metadata": {},
   "outputs": [
    {
     "data": {
      "text/plain": [
       "['Women Shoes',\n",
       " \"Women's Apparel\",\n",
       " \"Men's Apparel\",\n",
       " 'Men Shoes',\n",
       " 'Motors',\n",
       " 'Women Accessories',\n",
       " 'Home & Living']"
      ]
     },
     "execution_count": 19,
     "metadata": {},
     "output_type": "execute_result"
    }
   ],
   "source": [
    "temp = list(set(category_en)-set(category_tcn))\n",
    "same_category = list(set(category_en)-set(temp))\n",
    "same_category"
   ]
  },
  {
   "cell_type": "code",
   "execution_count": 20,
   "metadata": {},
   "outputs": [
    {
     "data": {
      "text/html": [
       "<div>\n",
       "<style scoped>\n",
       "    .dataframe tbody tr th:only-of-type {\n",
       "        vertical-align: middle;\n",
       "    }\n",
       "\n",
       "    .dataframe tbody tr th {\n",
       "        vertical-align: top;\n",
       "    }\n",
       "\n",
       "    .dataframe thead th {\n",
       "        text-align: right;\n",
       "    }\n",
       "</style>\n",
       "<table border=\"1\" class=\"dataframe\">\n",
       "  <thead>\n",
       "    <tr style=\"text-align: right;\">\n",
       "      <th></th>\n",
       "      <th>product_title</th>\n",
       "      <th>category</th>\n",
       "    </tr>\n",
       "  </thead>\n",
       "  <tbody>\n",
       "    <tr>\n",
       "      <th>4</th>\n",
       "      <td>flat sheetblanket cotton</td>\n",
       "      <td>Home &amp; Living</td>\n",
       "    </tr>\n",
       "    <tr>\n",
       "      <th>5</th>\n",
       "      <td>korean set</td>\n",
       "      <td>Women's Apparel</td>\n",
       "    </tr>\n",
       "    <tr>\n",
       "      <th>6</th>\n",
       "      <td>highgrade keychain</td>\n",
       "      <td>Home &amp; Living</td>\n",
       "    </tr>\n",
       "    <tr>\n",
       "      <th>7</th>\n",
       "      <td>【cod】chanel blackwhite sneaker shoes for women</td>\n",
       "      <td>Women Shoes</td>\n",
       "    </tr>\n",
       "    <tr>\n",
       "      <th>8</th>\n",
       "      <td>cat eyeglasses</td>\n",
       "      <td>Women's Apparel</td>\n",
       "    </tr>\n",
       "  </tbody>\n",
       "</table>\n",
       "</div>"
      ],
      "text/plain": [
       "                                    product_title         category\n",
       "4                        flat sheetblanket cotton    Home & Living\n",
       "5                                      korean set  Women's Apparel\n",
       "6                              highgrade keychain    Home & Living\n",
       "7  【cod】chanel blackwhite sneaker shoes for women      Women Shoes\n",
       "8                                  cat eyeglasses  Women's Apparel"
      ]
     },
     "execution_count": 20,
     "metadata": {},
     "output_type": "execute_result"
    }
   ],
   "source": [
    "filtered_en = data_en[data_en.category.isin(same_category)]\n",
    "filtered_en.head()"
   ]
  },
  {
   "cell_type": "code",
   "execution_count": 21,
   "metadata": {},
   "outputs": [
    {
     "data": {
      "text/html": [
       "<div>\n",
       "<style scoped>\n",
       "    .dataframe tbody tr th:only-of-type {\n",
       "        vertical-align: middle;\n",
       "    }\n",
       "\n",
       "    .dataframe tbody tr th {\n",
       "        vertical-align: top;\n",
       "    }\n",
       "\n",
       "    .dataframe thead th {\n",
       "        text-align: right;\n",
       "    }\n",
       "</style>\n",
       "<table border=\"1\" class=\"dataframe\">\n",
       "  <thead>\n",
       "    <tr style=\"text-align: right;\">\n",
       "      <th></th>\n",
       "      <th>product_title</th>\n",
       "      <th>category</th>\n",
       "    </tr>\n",
       "  </thead>\n",
       "  <tbody>\n",
       "    <tr>\n",
       "      <th>4</th>\n",
       "      <td>耐吉官 男子 足球 長 褲 新款 標準 型 拒水 拉鏈 褲腳</td>\n",
       "      <td>Men's Apparel</td>\n",
       "    </tr>\n",
       "    <tr>\n",
       "      <th>5</th>\n",
       "      <td>火影 忍道 鸣 睡衣 卡卡 西宇智 波佐助 恤 次 元 动漫 短袖 衣服</td>\n",
       "      <td>Women's Apparel</td>\n",
       "    </tr>\n",
       "    <tr>\n",
       "      <th>9</th>\n",
       "      <td>拇指 鞋坊 金標 貝殼 頭紅時 尚 男女 鞋板 鞋 時尚 情侶 鞋 男鞋 女鞋</td>\n",
       "      <td>Women Shoes</td>\n",
       "    </tr>\n",
       "    <tr>\n",
       "      <th>10</th>\n",
       "      <td>居家 推款 記憶 棉枕護 勁 頸 椎 枕修 復 脊椎 治頸椎 專枕頭 女孕婦 失眠 保健 理療 枕</td>\n",
       "      <td>Home &amp; Living</td>\n",
       "    </tr>\n",
       "    <tr>\n",
       "      <th>14</th>\n",
       "      <td>炫彩 細口手 沖 壺桃紅 藍 黃</td>\n",
       "      <td>Home &amp; Living</td>\n",
       "    </tr>\n",
       "  </tbody>\n",
       "</table>\n",
       "</div>"
      ],
      "text/plain": [
       "                                        product_title         category\n",
       "4                      耐吉官 男子 足球 長 褲 新款 標準 型 拒水 拉鏈 褲腳    Men's Apparel\n",
       "5                火影 忍道 鸣 睡衣 卡卡 西宇智 波佐助 恤 次 元 动漫 短袖 衣服  Women's Apparel\n",
       "9             拇指 鞋坊 金標 貝殼 頭紅時 尚 男女 鞋板 鞋 時尚 情侶 鞋 男鞋 女鞋      Women Shoes\n",
       "10  居家 推款 記憶 棉枕護 勁 頸 椎 枕修 復 脊椎 治頸椎 專枕頭 女孕婦 失眠 保健 理療 枕    Home & Living\n",
       "14                                   炫彩 細口手 沖 壺桃紅 藍 黃    Home & Living"
      ]
     },
     "execution_count": 21,
     "metadata": {},
     "output_type": "execute_result"
    }
   ],
   "source": [
    "filtered_tcn = data_tcn[data_tcn.category.isin(same_category)]\n",
    "filtered_tcn.head()"
   ]
  },
  {
   "cell_type": "markdown",
   "metadata": {},
   "source": [
    "# TRADITIONAL CHINESE TRANSLATION TO ENGLISH USING GOOGLE API"
   ]
  },
  {
   "cell_type": "code",
   "execution_count": 22,
   "metadata": {},
   "outputs": [],
   "source": [
    "import googletrans, time\n",
    "from googletrans import Translator\n",
    "import nltk"
   ]
  },
  {
   "cell_type": "code",
   "execution_count": 23,
   "metadata": {},
   "outputs": [
    {
     "data": {
      "text/plain": [
       "4                            耐吉官 男子 足球 長 褲 新款 標準 型 拒水 拉鏈 褲腳\n",
       "5                      火影 忍道 鸣 睡衣 卡卡 西宇智 波佐助 恤 次 元 动漫 短袖 衣服\n",
       "9                   拇指 鞋坊 金標 貝殼 頭紅時 尚 男女 鞋板 鞋 時尚 情侶 鞋 男鞋 女鞋\n",
       "10        居家 推款 記憶 棉枕護 勁 頸 椎 枕修 復 脊椎 治頸椎 專枕頭 女孕婦 失眠 保健 理療 枕\n",
       "14                                         炫彩 細口手 沖 壺桃紅 藍 黃\n",
       "                                ...                        \n",
       "499986                                                   牙膏\n",
       "499988                                                棒球 外套\n",
       "499992                           創意 臺 燈學生 學習 燈 充電 臺 燈 充電夜 燈\n",
       "499994      男裝 夏季 男裝 青少 少年 青少年 短袖 恤色 修身 韓版圓 領純 棉 衣服 袖 男夏 潮流\n",
       "499995                                                Dress\n",
       "Name: product_title, Length: 224598, dtype: object"
      ]
     },
     "execution_count": 23,
     "metadata": {},
     "output_type": "execute_result"
    }
   ],
   "source": [
    "filtered_tcn['product_title']"
   ]
  },
  {
   "cell_type": "code",
   "execution_count": 24,
   "metadata": {},
   "outputs": [
    {
     "data": {
      "text/plain": [
       "4                            耐吉官 男子 足球 長 褲 新款 標準 型 拒水 拉鏈 褲腳\n",
       "5                      火影 忍道 鸣 睡衣 卡卡 西宇智 波佐助 恤 次 元 动漫 短袖 衣服\n",
       "9                   拇指 鞋坊 金標 貝殼 頭紅時 尚 男女 鞋板 鞋 時尚 情侶 鞋 男鞋 女鞋\n",
       "10        居家 推款 記憶 棉枕護 勁 頸 椎 枕修 復 脊椎 治頸椎 專枕頭 女孕婦 失眠 保健 理療 枕\n",
       "14                                         炫彩 細口手 沖 壺桃紅 藍 黃\n",
       "                                ...                        \n",
       "499986                                                   牙膏\n",
       "499988                                                棒球 外套\n",
       "499992                           創意 臺 燈學生 學習 燈 充電 臺 燈 充電夜 燈\n",
       "499994      男裝 夏季 男裝 青少 少年 青少年 短袖 恤色 修身 韓版圓 領純 棉 衣服 袖 男夏 潮流\n",
       "499995                                                Dress\n",
       "Name: product_title, Length: 224598, dtype: object"
      ]
     },
     "execution_count": 24,
     "metadata": {},
     "output_type": "execute_result"
    }
   ],
   "source": [
    "dataset = filtered_tcn['product_title']\n",
    "dataset"
   ]
  },
  {
   "cell_type": "code",
   "execution_count": null,
   "metadata": {},
   "outputs": [],
   "source": [
    "start = time.time()\n",
    "translation_result = []\n",
    "translator= Translator()\n",
    "for i in tqdm(range(len(dataset))):\n",
    "    translation_result.append(translator.translate(dataset.iloc[i], dest='en', src='zh-tw').text)\n",
    "stop = time.time()"
   ]
  },
  {
   "cell_type": "code",
   "execution_count": 52,
   "metadata": {},
   "outputs": [
    {
     "name": "stdout",
     "output_type": "stream",
     "text": [
      "                                                 pred         category\n",
      "4   Nike official men's football trousers new stan...    Men's Apparel\n",
      "5   Naruto Shinobi pajamas Kaka Nishi Uchiha Sasuk...  Women's Apparel\n",
      "9   Thumb shoe square gold label shell shell red w...      Women Shoes\n",
      "10  Home Push Memory Memory Cotton Pillow Protecti...    Home & Living\n",
      "14  Dazzling fine-mouthed hand punching pot pink b...    Home & Living\n",
      "                                                   pred           category\n",
      "3860                  Striped suspender skirt two-piece    Women's Apparel\n",
      "3861                           Custom order merchandise  Women Accessories\n",
      "3862             Collar character split sleeve clothing    Women's Apparel\n",
      "3863  Postcard Practice Doll Zhu Zhengting Periphera...      Home & Living\n",
      "3864  Back Butterfly Love Heart Low Waist Panties Sm...    Women's Apparel\n"
     ]
    }
   ],
   "source": [
    "translated = pd.DataFrame({'pred': translation_result,'category':filtered_tcn['category'][0:len(translation_result)]})\n",
    "# print(\"Test Time: \",stop-start)\n",
    "print(translated.head())\n",
    "print(translated.tail())\n",
    "# translated.to_csv('D:/A Shopee Code League/#4 Title Translation/translated_to_en_cleaned_data_tcn.csv', index=False)"
   ]
  },
  {
   "cell_type": "markdown",
   "metadata": {},
   "source": [
    "# SIMILARITY CHECKING TO MATCH UP THE TRAINING SET"
   ]
  },
  {
   "cell_type": "code",
   "execution_count": 26,
   "metadata": {},
   "outputs": [
    {
     "data": {
      "text/html": [
       "<div>\n",
       "<style scoped>\n",
       "    .dataframe tbody tr th:only-of-type {\n",
       "        vertical-align: middle;\n",
       "    }\n",
       "\n",
       "    .dataframe tbody tr th {\n",
       "        vertical-align: top;\n",
       "    }\n",
       "\n",
       "    .dataframe thead th {\n",
       "        text-align: right;\n",
       "    }\n",
       "</style>\n",
       "<table border=\"1\" class=\"dataframe\">\n",
       "  <thead>\n",
       "    <tr style=\"text-align: right;\">\n",
       "      <th></th>\n",
       "      <th>product_title</th>\n",
       "      <th>category</th>\n",
       "    </tr>\n",
       "  </thead>\n",
       "  <tbody>\n",
       "    <tr>\n",
       "      <th>0</th>\n",
       "      <td>flat sheetblanket cotton</td>\n",
       "      <td>Home &amp; Living</td>\n",
       "    </tr>\n",
       "    <tr>\n",
       "      <th>1</th>\n",
       "      <td>korean set</td>\n",
       "      <td>Women's Apparel</td>\n",
       "    </tr>\n",
       "    <tr>\n",
       "      <th>2</th>\n",
       "      <td>highgrade keychain</td>\n",
       "      <td>Home &amp; Living</td>\n",
       "    </tr>\n",
       "    <tr>\n",
       "      <th>3</th>\n",
       "      <td>【cod】chanel blackwhite sneaker shoes for women</td>\n",
       "      <td>Women Shoes</td>\n",
       "    </tr>\n",
       "    <tr>\n",
       "      <th>4</th>\n",
       "      <td>cat eyeglasses</td>\n",
       "      <td>Women's Apparel</td>\n",
       "    </tr>\n",
       "  </tbody>\n",
       "</table>\n",
       "</div>"
      ],
      "text/plain": [
       "                                    product_title         category\n",
       "0                        flat sheetblanket cotton    Home & Living\n",
       "1                                      korean set  Women's Apparel\n",
       "2                              highgrade keychain    Home & Living\n",
       "3  【cod】chanel blackwhite sneaker shoes for women      Women Shoes\n",
       "4                                  cat eyeglasses  Women's Apparel"
      ]
     },
     "execution_count": 26,
     "metadata": {},
     "output_type": "execute_result"
    }
   ],
   "source": [
    "zh_translated = pd.read_csv('D:/A Shopee Code League/#4 Title Translation/translated_to_en_cleaned_data_tcn.csv')\n",
    "all_sentences = filtered_en.dropna().reset_index().drop('index', axis=1)\n",
    "# all_sentences = all_sentences[:25000]\n",
    "all_sentences.head()"
   ]
  },
  {
   "cell_type": "code",
   "execution_count": 27,
   "metadata": {},
   "outputs": [],
   "source": [
    "import math\n",
    "import re\n",
    "from collections import Counter\n",
    "\n",
    "WORD = re.compile(r\"\\w+\")\n",
    "\n",
    "def get_cosine(v1, v2):\n",
    "    intersects = set(v1.keys()) & set(v2.keys())\n",
    "    num = sum([v1[x] * v2[x] for x in intersects])\n",
    "    sum1 = sum([v1[x] ** 2 for x in list(v1.keys())])\n",
    "    sum2 = sum([v2[x] ** 2 for x in list(v2.keys())])\n",
    "    den = math.sqrt(sum1) * math.sqrt(sum2)\n",
    "    if not den:\n",
    "        return 0.0\n",
    "    else:\n",
    "        return round(float(num) / den,3)\n",
    "\n",
    "def text_to_vector(text):\n",
    "    words = WORD.findall(text)\n",
    "    return Counter(words)"
   ]
  },
  {
   "cell_type": "code",
   "execution_count": 28,
   "metadata": {},
   "outputs": [
    {
     "name": "stderr",
     "output_type": "stream",
     "text": [
      "100%|██████████| 208111/208111 [00:04<00:00, 42507.75it/s]\n"
     ]
    }
   ],
   "source": [
    "all_sentences_vectors = []\n",
    "for k in tqdm(range(len(all_sentences))):\n",
    "    all_sentences_vectors.append(text_to_vector(all_sentences['product_title'][k]))"
   ]
  },
  {
   "cell_type": "code",
   "execution_count": 29,
   "metadata": {},
   "outputs": [
    {
     "name": "stderr",
     "output_type": "stream",
     "text": [
      "100%|██████████| 1669/1669 [00:00<00:00, 30414.24it/s]\n"
     ]
    }
   ],
   "source": [
    "all_sample_vectors = []\n",
    "for n in tqdm(range(len(zh_translated['pred']))):\n",
    "    all_sample_vectors.append(text_to_vector(zh_translated['pred'][n]))"
   ]
  },
  {
   "cell_type": "markdown",
   "metadata": {},
   "source": [
    "##### Check Five Sentences in Translated Traditional Chinese Dataset"
   ]
  },
  {
   "cell_type": "code",
   "execution_count": 30,
   "metadata": {},
   "outputs": [
    {
     "name": "stderr",
     "output_type": "stream",
     "text": [
      "100%|██████████| 10/10 [00:22<00:00,  2.23s/it]"
     ]
    },
    {
     "name": "stdout",
     "output_type": "stream",
     "text": [
      "Cosine Similarity calculation completed\n"
     ]
    },
    {
     "name": "stderr",
     "output_type": "stream",
     "text": [
      "\n"
     ]
    }
   ],
   "source": [
    "doc = []\n",
    "for j in tqdm(range(50,60)):\n",
    "    cosine_similarity = []\n",
    "    vector1 = all_sample_vectors[j]\n",
    "    for i in range(len(all_sentences)):\n",
    "        vector2 = all_sentences_vectors[i]\n",
    "        cosine_similarity.append(get_cosine(vector1, vector2))\n",
    "    doc.append([zh_translated['pred'][j], all_sentences['product_title'][cosine_similarity.index(max(cosine_similarity))], max(cosine_similarity)])\n",
    "\n",
    "print('Cosine Similarity calculation completed')"
   ]
  },
  {
   "cell_type": "code",
   "execution_count": 31,
   "metadata": {},
   "outputs": [
    {
     "data": {
      "text/plain": [
       "[['Sa🐷', ' flat sheetblanket cotton', 0.0],\n",
       " ['Fluorescent green shape pocket vest', 'vest', 0.447],\n",
       " [\"Classic Recommended New Fans Spring New Love Women's Shoes Casual Skateboard Skateboard Shoes Low-Top Canvas Cloth Shoes Canvas Shoes\",\n",
       "  's',\n",
       "  0.16],\n",
       " ['Aiwo Double Bed Package Set Cash Goods Double Bed Single Piece Set Double Bed Package Twin Bed Single Bed',\n",
       "  ' flat sheetblanket cotton',\n",
       "  0.0],\n",
       " ['Lace lingerie', 'lingerie', 0.707],\n",
       " ['Fans complex ancient middle help canvas vulcanization board shoes classic when it is still versatile leisure shoes men and women sports shoes running shoes canvas cloth shoes canvas shoes',\n",
       "  'canvas shoes',\n",
       "  0.789],\n",
       " ['Sale Uli twill cloth black grass green yellow green ruler', 'green', 0.577],\n",
       " ['Quality streamer flag shell head complex Gu Xiu leisure leather men and women shoes',\n",
       "  'women and men shoes ',\n",
       "  0.535],\n",
       " ['Short-sleeved shirt short high pounds pure cotton wild collar collar leisure leisure men and women models couple models short sleeves',\n",
       "  'couple short for men ’ s and women',\n",
       "  0.421],\n",
       " ['Buckle', ' flat sheetblanket cotton', 0.0]]"
      ]
     },
     "execution_count": 31,
     "metadata": {},
     "output_type": "execute_result"
    }
   ],
   "source": [
    "doc"
   ]
  }
 ],
 "metadata": {
  "kernelspec": {
   "display_name": "Python 3",
   "language": "python",
   "name": "python3"
  },
  "language_info": {
   "codemirror_mode": {
    "name": "ipython",
    "version": 3
   },
   "file_extension": ".py",
   "mimetype": "text/x-python",
   "name": "python",
   "nbconvert_exporter": "python",
   "pygments_lexer": "ipython3",
   "version": "3.7.7"
  }
 },
 "nbformat": 4,
 "nbformat_minor": 4
}
