{
 "cells": [
  {
   "cell_type": "code",
   "execution_count": 1,
   "metadata": {},
   "outputs": [
    {
     "name": "stderr",
     "output_type": "stream",
     "text": [
      "Using TensorFlow backend.\n"
     ]
    }
   ],
   "source": [
    "import string, re\n",
    "import numpy as np\n",
    "import pandas as pd\n",
    "import matplotlib.pyplot as plt\n",
    "from keras import optimizers\n",
    "from keras.models import Sequential, load_model\n",
    "from keras.layers import Dense, LSTM, Embedding, RepeatVector\n",
    "from keras.preprocessing.text import Tokenizer\n",
    "from keras.preprocessing.sequence import pad_sequences\n",
    "from keras.callbacks import ModelCheckpoint"
   ]
  },
  {
   "cell_type": "code",
   "execution_count": 2,
   "metadata": {},
   "outputs": [],
   "source": [
    "def readtxt(file_name): \n",
    "        file = open(file_name, mode='rt', encoding='utf-8')  \n",
    "        text = file.read() \n",
    "        file.close() \n",
    "        return text\n",
    "    \n",
    "def splitter(text): \n",
    "    temp = text.strip().split('\\n') \n",
    "    splitted = [i.split('\\t') for i in temp] \n",
    "    return splitted\n",
    "\n",
    "def prepper(text):\n",
    "    punc = [\".\",\"]\",\"[\",\"!\",\"?\",\"'\",\",\"]\n",
    "    for s in punc:\n",
    "        text = text.replace(s,\"\")\n",
    "    return text.lower()\n",
    "\n",
    "def tokenization(lines): \n",
    "    tokenizer = Tokenizer() \n",
    "    tokenizer.fit_on_texts(lines) \n",
    "    return tokenizer\n",
    "    \n",
    "def encode_sequences(tokenizer, length, lines):\n",
    "    seq = tokenizer.texts_to_sequences(lines)          \n",
    "    seq = pad_sequences(seq,\n",
    "                     maxlen = length, \n",
    "                     padding = 'post')           \n",
    "    return seq\n",
    "\n",
    "def get_word(n, tokenizer):  \n",
    "    for word, index in tokenizer.word_index.items():                       \n",
    "    if index == n: \n",
    "        return word \n",
    "    return None"
   ]
  },
  {
   "cell_type": "code",
   "execution_count": 3,
   "metadata": {},
   "outputs": [],
   "source": [
    "rawdata = readtxt('deu.txt')\n",
    "dataset = np.array(splitter(rawdata))\n",
    "dataset = dataset[:50000,:]"
   ]
  },
  {
   "cell_type": "code",
   "execution_count": 4,
   "metadata": {},
   "outputs": [],
   "source": [
    "deu_eng = []\n",
    "for k in range(len(dataset)):\n",
    "    deu_eng.append(prepper(str(dataset[k])).split(\";\"))"
   ]
  },
  {
   "cell_type": "code",
   "execution_count": 5,
   "metadata": {},
   "outputs": [],
   "source": [
    "ENG = []\n",
    "DEU = []\n",
    "for p in range(len(deu_eng)):\n",
    "    ENG.append(deu_eng[p][0])\n",
    "    DEU.append(deu_eng[p][1])"
   ]
  },
  {
   "cell_type": "code",
   "execution_count": 6,
   "metadata": {},
   "outputs": [
    {
     "name": "stdout",
     "output_type": "stream",
     "text": [
      "       eng  deu\n",
      "0        1    1\n",
      "1        1    1\n",
      "2        1    2\n",
      "3        1    1\n",
      "4        1    1\n",
      "...    ...  ...\n",
      "49995    5    7\n",
      "49996    4    5\n",
      "49997    4    4\n",
      "49998    4    5\n",
      "49999    4    4\n",
      "\n",
      "[50000 rows x 2 columns]\n"
     ]
    },
    {
     "data": {
      "image/png": "[encoded data removed]",
      "text/plain": [
       "<Figure size 432x288 with 2 Axes>"
      ]
     },
     "metadata": {
      "needs_background": "light"
     },
     "output_type": "display_data"
    }
   ],
   "source": [
    "eng_word_count = []\n",
    "deu_word_count = []\n",
    "\n",
    "for i in ENG:\n",
    "    eng_word_count.append(len(i.split()))\n",
    "\n",
    "for j in DEU:\n",
    "    deu_word_count.append(len(j.split()))\n",
    "\n",
    "length_df = pd.DataFrame({'eng':eng_word_count, \n",
    "                          'deu':deu_word_count})\n",
    "print(length_df)\n",
    "length_df.hist(bins = 30) \n",
    "plt.show()"
   ]
  },
  {
   "cell_type": "code",
   "execution_count": 7,
   "metadata": {},
   "outputs": [
    {
     "data": {
      "text/plain": [
       "eng     7\n",
       "deu    15\n",
       "dtype: int64"
      ]
     },
     "execution_count": 7,
     "metadata": {},
     "output_type": "execute_result"
    }
   ],
   "source": [
    "length_df.max()"
   ]
  },
  {
   "cell_type": "code",
   "execution_count": 8,
   "metadata": {},
   "outputs": [],
   "source": [
    "eng_tokenizer = tokenization(ENG) \n",
    "eng_vocab_size = len(eng_tokenizer.word_index) + 1 \n",
    "eng_length = 8 \n",
    "\n",
    "deu_tokenizer = tokenization(DEU) \n",
    "deu_vocab_size = len(deu_tokenizer.word_index) + 1 \n",
    "deu_length = 16"
   ]
  },
  {
   "cell_type": "code",
   "execution_count": 9,
   "metadata": {},
   "outputs": [],
   "source": [
    "from sklearn.model_selection import train_test_split \n",
    "train, test = train_test_split(deu_eng,\n",
    "                               test_size = 0.2,\n",
    "                               random_state = 12)\n",
    "\n",
    "ENG_train = []\n",
    "ENG_test = []\n",
    "DEU_train = []\n",
    "DEU_test = []\n",
    "\n",
    "for w in range(len(train)):\n",
    "    ENG_train.append(train[w][0])\n",
    "    DEU_train.append(train[w][1])\n",
    "    \n",
    "for w in range(len(test)):\n",
    "    ENG_test.append(test[w][0])\n",
    "    DEU_test.append(test[w][1])\n",
    "    \n",
    "# prepare training data \n",
    "trainX = encode_sequences(deu_tokenizer, deu_length, DEU_train) \n",
    "trainY = encode_sequences(eng_tokenizer, eng_length, ENG_train) \n",
    "\n",
    "# prepare validation data \n",
    "testX = encode_sequences(deu_tokenizer, deu_length, DEU_test) \n",
    "testY = encode_sequences(eng_tokenizer, eng_length, ENG_test)"
   ]
  },
  {
   "cell_type": "code",
   "execution_count": 14,
   "metadata": {},
   "outputs": [],
   "source": [
    "def build_model(in_vocab, out_vocab, in_timesteps, out_timesteps, n):   \n",
    "      model = Sequential() \n",
    "      model.add(Embedding(in_vocab, \n",
    "                          n, \n",
    "                          input_length = in_timesteps,   \n",
    "                          mask_zero = True)\n",
    "               ) \n",
    "      model.add(LSTM(n)) \n",
    "      model.add(RepeatVector(out_timesteps)) \n",
    "      model.add(LSTM(n, return_sequences=True))  \n",
    "      model.add(Dense(out_vocab, activation='softmax')) \n",
    "      return model"
   ]
  },
  {
   "cell_type": "code",
   "execution_count": 15,
   "metadata": {},
   "outputs": [],
   "source": [
    "# model compilation (with 512 hidden units)\n",
    "model = build_model(deu_vocab_size, eng_vocab_size, deu_length, eng_length, 512)\n",
    "\n",
    "rms = optimizers.RMSprop(lr=0.001) \n",
    "model.compile(optimizer=rms, loss='sparse_categorical_crossentropy')"
   ]
  },
  {
   "cell_type": "code",
   "execution_count": 96,
   "metadata": {},
   "outputs": [
    {
     "name": "stdout",
     "output_type": "stream",
     "text": [
      "Epoch 1/30\n",
      "63/63 [==============================] - 159s 3s/step - loss: 3.4299 - val_loss: 2.8750\n",
      "Epoch 2/30\n",
      "63/63 [==============================] - 166s 3s/step - loss: 2.7918 - val_loss: 2.7874\n",
      "Epoch 3/30\n",
      "63/63 [==============================] - 163s 3s/step - loss: 2.6324 - val_loss: 2.5847\n",
      "Epoch 4/30\n",
      "63/63 [==============================] - 164s 3s/step - loss: 2.4498 - val_loss: 2.4460\n",
      "Epoch 5/30\n",
      "63/63 [==============================] - 164s 3s/step - loss: 2.3039 - val_loss: 2.3614\n",
      "Epoch 6/30\n",
      "63/63 [==============================] - 164s 3s/step - loss: 2.1755 - val_loss: 2.2416\n",
      "Epoch 7/30\n",
      "63/63 [==============================] - 167s 3s/step - loss: 2.0577 - val_loss: 2.1596\n",
      "Epoch 8/30\n",
      "63/63 [==============================] - 164s 3s/step - loss: 1.9428 - val_loss: 2.1111\n",
      "Epoch 9/30\n",
      "63/63 [==============================] - 165s 3s/step - loss: 1.8430 - val_loss: 2.0123\n",
      "Epoch 10/30\n",
      "63/63 [==============================] - 164s 3s/step - loss: 1.7432 - val_loss: 1.9663\n",
      "Epoch 11/30\n",
      "63/63 [==============================] - 164s 3s/step - loss: 1.6477 - val_loss: 1.8794\n",
      "Epoch 12/30\n",
      "63/63 [==============================] - 164s 3s/step - loss: 1.5515 - val_loss: 1.8231\n",
      "Epoch 13/30\n",
      "63/63 [==============================] - 165s 3s/step - loss: 1.4625 - val_loss: 1.7562\n",
      "Epoch 14/30\n",
      "63/63 [==============================] - 164s 3s/step - loss: 1.3720 - val_loss: 1.7160\n",
      "Epoch 15/30\n",
      "63/63 [==============================] - 165s 3s/step - loss: 1.2857 - val_loss: 1.6880\n",
      "Epoch 16/30\n",
      "63/63 [==============================] - 165s 3s/step - loss: 1.2069 - val_loss: 1.6154\n",
      "Epoch 17/30\n",
      "63/63 [==============================] - 165s 3s/step - loss: 1.1276 - val_loss: 1.5874\n",
      "Epoch 18/30\n",
      "63/63 [==============================] - 165s 3s/step - loss: 1.0523 - val_loss: 1.5465\n",
      "Epoch 19/30\n",
      "63/63 [==============================] - 164s 3s/step - loss: 0.9832 - val_loss: 1.5080\n",
      "Epoch 20/30\n",
      "63/63 [==============================] - 167s 3s/step - loss: 0.9148 - val_loss: 1.4777\n",
      "Epoch 21/30\n",
      "63/63 [==============================] - 166s 3s/step - loss: 0.8524 - val_loss: 1.4573\n",
      "Epoch 22/30\n",
      "63/63 [==============================] - 166s 3s/step - loss: 0.7927 - val_loss: 1.4147\n",
      "Epoch 23/30\n",
      "63/63 [==============================] - 168s 3s/step - loss: 0.7358 - val_loss: 1.3985\n",
      "Epoch 24/30\n",
      "63/63 [==============================] - 168s 3s/step - loss: 0.6807 - val_loss: 1.4072\n",
      "Epoch 25/30\n",
      "63/63 [==============================] - 168s 3s/step - loss: 0.6301 - val_loss: 1.3652\n",
      "Epoch 26/30\n",
      "63/63 [==============================] - 166s 3s/step - loss: 0.5815 - val_loss: 1.3563\n",
      "Epoch 27/30\n",
      "63/63 [==============================] - 167s 3s/step - loss: 0.5387 - val_loss: 1.3410\n",
      "Epoch 28/30\n",
      "63/63 [==============================] - 167s 3s/step - loss: 0.4959 - val_loss: 1.3357\n",
      "Epoch 29/30\n",
      "63/63 [==============================] - 168s 3s/step - loss: 0.4541 - val_loss: 1.3266\n",
      "Epoch 30/30\n",
      "63/63 [==============================] - 168s 3s/step - loss: 0.4176 - val_loss: 1.3256\n"
     ]
    }
   ],
   "source": [
    "training_session = model.fit(trainX, trainY.reshape(trainY.shape[0], trainY.shape[1], 1), \n",
    "                    epochs=30, batch_size=512, validation_split = 0.2, verbose=1)"
   ]
  },
  {
   "cell_type": "code",
   "execution_count": 98,
   "metadata": {},
   "outputs": [
    {
     "data": {
      "image/png": "[encoded data removed]",
      "text/plain": [
       "<Figure size 432x288 with 1 Axes>"
      ]
     },
     "metadata": {
      "needs_background": "light"
     },
     "output_type": "display_data"
    }
   ],
   "source": [
    "plt.plot(training_session.history['loss']) \n",
    "plt.plot(training_session.history['val_loss']) \n",
    "plt.legend(['train','validation']) \n",
    "plt.show()"
   ]
  },
  {
   "cell_type": "code",
   "execution_count": 97,
   "metadata": {},
   "outputs": [
    {
     "name": "stdout",
     "output_type": "stream",
     "text": [
      "Model and weight saved in local computer\n"
     ]
    }
   ],
   "source": [
    "# save model in json file and its weight\n",
    "model_json = model.to_json()\n",
    "with open(\"model_DEU_ENG.json\",\"w\") as json_file:\n",
    "    json_file.write(model_json)\n",
    "    \n",
    "model.save_weights(\"model_DEU_ENG.h5\")\n",
    "\n",
    "print(\"Model and weight saved in local computer\")"
   ]
  },
  {
   "cell_type": "code",
   "execution_count": 10,
   "metadata": {},
   "outputs": [
    {
     "name": "stdout",
     "output_type": "stream",
     "text": [
      "Model and weight loaded\n"
     ]
    }
   ],
   "source": [
    "from keras.models import model_from_json\n",
    "\n",
    "# load model in json file and its weight\n",
    "json_file = open('model_DEU_ENG.json','r')\n",
    "loaded_model_json = json_file.read()\n",
    "json_file.close()\n",
    "loaded_model = model_from_json(loaded_model_json)\n",
    "\n",
    "loaded_model.load_weights(\"model_DEU_ENG.h5\")\n",
    "\n",
    "print(\"Model and weight loaded\")\n",
    "\n",
    "loaded_model.compile(optimizer=optimizers.RMSprop(lr=0.001), loss='sparse_categorical_crossentropy', metrics=['accuracy'])"
   ]
  },
  {
   "cell_type": "code",
   "execution_count": 11,
   "metadata": {},
   "outputs": [
    {
     "name": "stdout",
     "output_type": "stream",
     "text": [
      "WARNING:tensorflow:From <ipython-input-11-0287960f002c>:1: Sequential.predict_classes (from tensorflow.python.keras.engine.sequential) is deprecated and will be removed after 2021-01-01.\n",
      "Instructions for updating:\n",
      "Please use instead:* `np.argmax(model.predict(x), axis=-1)`,   if your model does multi-class classification   (e.g. if it uses a `softmax` last-layer activation).* `(model.predict(x) > 0.5).astype(\"int32\")`,   if your model does binary classification   (e.g. if it uses a `sigmoid` last-layer activation).\n"
     ]
    }
   ],
   "source": [
    "preds = loaded_model.predict_classes(testX.reshape((testX.shape[0], testX.shape[1])))"
   ]
  },
  {
   "cell_type": "code",
   "execution_count": null,
   "metadata": {},
   "outputs": [],
   "source": [
    "preds_text = [] \n",
    "for i in preds:        \n",
    "    temp = []        \n",
    "    for j in range(len(i)):             \n",
    "        t = get_word(i[j], eng_tokenizer)             \n",
    "        if j > 0:                 \n",
    "            if (t == get_word(i[j-1],eng_tokenizer)) or (t== None):                       \n",
    "                 temp.append('')                 \n",
    "            else:                      \n",
    "                 temp.append(t)             \n",
    "        else:                    \n",
    "            if(t == None):                                   \n",
    "                 temp.append('')                    \n",
    "            else:                           \n",
    "                 temp.append(t)        \n",
    "    preds_text.append(' '.join(temp))"
   ]
  },
  {
   "cell_type": "code",
   "execution_count": 14,
   "metadata": {},
   "outputs": [
    {
     "data": {
      "text/html": [
       "<div>\n",
       "<style scoped>\n",
       "    .dataframe tbody tr th:only-of-type {\n",
       "        vertical-align: middle;\n",
       "    }\n",
       "\n",
       "    .dataframe tbody tr th {\n",
       "        vertical-align: top;\n",
       "    }\n",
       "\n",
       "    .dataframe thead th {\n",
       "        text-align: right;\n",
       "    }\n",
       "</style>\n",
       "<table border=\"1\" class=\"dataframe\">\n",
       "  <thead>\n",
       "    <tr style=\"text-align: right;\">\n",
       "      <th></th>\n",
       "      <th>Sources Sentences</th>\n",
       "      <th>Predicted Translated Sentences</th>\n",
       "      <th>Actual Translated Sentences</th>\n",
       "    </tr>\n",
       "  </thead>\n",
       "  <tbody>\n",
       "    <tr>\n",
       "      <th>0</th>\n",
       "      <td>es kann nicht lange dauern</td>\n",
       "      <td>it cant take my</td>\n",
       "      <td>it cannot last long</td>\n",
       "    </tr>\n",
       "    <tr>\n",
       "      <th>1</th>\n",
       "      <td>liege ich richtig</td>\n",
       "      <td>i right</td>\n",
       "      <td>am i right</td>\n",
       "    </tr>\n",
       "    <tr>\n",
       "      <th>2</th>\n",
       "      <td>rate wer ich bin</td>\n",
       "      <td>think who i</td>\n",
       "      <td>guess who i am</td>\n",
       "    </tr>\n",
       "    <tr>\n",
       "      <th>3</th>\n",
       "      <td>wir sind in der stadt\"</td>\n",
       "      <td>were in the</td>\n",
       "      <td>\"were in town</td>\n",
       "    </tr>\n",
       "    <tr>\n",
       "      <th>4</th>\n",
       "      <td>tom kann am schnellsten laufen</td>\n",
       "      <td>tom is a bread</td>\n",
       "      <td>tom runs the fastest</td>\n",
       "    </tr>\n",
       "  </tbody>\n",
       "</table>\n",
       "</div>"
      ],
      "text/plain": [
       "                Sources Sentences Predicted Translated Sentences  \\\n",
       "0      es kann nicht lange dauern            it cant take my       \n",
       "1               liege ich richtig                  i right         \n",
       "2                rate wer ich bin               think who i        \n",
       "3          wir sind in der stadt\"               were in the        \n",
       "4  tom kann am schnellsten laufen             tom is a bread       \n",
       "\n",
       "  Actual Translated Sentences  \n",
       "0         it cannot last long  \n",
       "1                  am i right  \n",
       "2              guess who i am  \n",
       "3               \"were in town  \n",
       "4        tom runs the fastest  "
      ]
     },
     "execution_count": 14,
     "metadata": {},
     "output_type": "execute_result"
    }
   ],
   "source": [
    "pred_df = pd.DataFrame({'Sources Sentences'              : DEU_test,\n",
    "                        'Predicted Translated Sentences' : preds_text,\n",
    "                        'Actual Translated Sentences'    : ENG_test})\n",
    "pred_df.head()"
   ]
  },
  {
   "cell_type": "code",
   "execution_count": 15,
   "metadata": {},
   "outputs": [],
   "source": [
    "pred_df.to_csv('Translated_DEU_to_ENG.csv',index=False)"
   ]
  },
  {
   "cell_type": "code",
   "execution_count": null,
   "metadata": {},
   "outputs": [],
   "source": []
  }
 ],
 "metadata": {
  "kernelspec": {
   "display_name": "Python 3",
   "language": "python",
   "name": "python3"
  },
  "language_info": {
   "codemirror_mode": {
    "name": "ipython",
    "version": 3
   },
   "file_extension": ".py",
   "mimetype": "text/x-python",
   "name": "python",
   "nbconvert_exporter": "python",
   "pygments_lexer": "ipython3",
   "version": "3.7.7"
  }
 },
 "nbformat": 4,
 "nbformat_minor": 4
}
